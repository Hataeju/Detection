{
  "nbformat": 4,
  "nbformat_minor": 0,
  "metadata": {
    "colab": {
      "provenance": [],
      "include_colab_link": true
    },
    "kernelspec": {
      "name": "python3",
      "display_name": "Python 3"
    },
    "language_info": {
      "name": "python"
    }
  },
  "cells": [
    {
      "cell_type": "markdown",
      "metadata": {
        "id": "view-in-github",
        "colab_type": "text"
      },
      "source": [
        "<a href=\"https://colab.research.google.com/github/Hataeju/Detection/blob/main/detection.ipynb\" target=\"_parent\"><img src=\"https://colab.research.google.com/assets/colab-badge.svg\" alt=\"Open In Colab\"/></a>"
      ]
    },
    {
      "cell_type": "markdown",
      "source": [
        "# 데이터 준비"
      ],
      "metadata": {
        "id": "uxnIwT7FCN2-"
      }
    },
    {
      "cell_type": "markdown",
      "source": [
        "## 기본 라이브러리 Import"
      ],
      "metadata": {
        "id": "BDFvv6SpshQn"
      }
    },
    {
      "cell_type": "code",
      "source": [
        "# 기본라이브러리 import\n",
        "from google.colab import drive\n",
        "import os, json, requests, time  #VirusTotal API결과 분석을 위해\n",
        "\n",
        "import numpy as np\n",
        "import pandas as pd\n"
      ],
      "metadata": {
        "id": "XN9itg9ECLzJ"
      },
      "execution_count": 1,
      "outputs": []
    },
    {
      "cell_type": "markdown",
      "source": [
        "## 라이브러리 추가 설치 및 Import"
      ],
      "metadata": {
        "id": "_J2TUu2fk47i"
      }
    },
    {
      "cell_type": "code",
      "source": [
        "!pip install pefile"
      ],
      "metadata": {
        "id": "18mlD1VrG63l",
        "colab": {
          "base_uri": "https://localhost:8080/"
        },
        "outputId": "6d54fb32-2b73-4173-9f85-83c60c859b31"
      },
      "execution_count": 2,
      "outputs": [
        {
          "output_type": "stream",
          "name": "stdout",
          "text": [
            "Requirement already satisfied: pefile in /usr/local/lib/python3.11/dist-packages (2024.8.26)\n"
          ]
        }
      ]
    },
    {
      "cell_type": "code",
      "source": [
        "!pip install yara-python"
      ],
      "metadata": {
        "id": "4bGCuUaLZ2c6",
        "colab": {
          "base_uri": "https://localhost:8080/"
        },
        "outputId": "5caded1a-c88c-4566-f770-45955d3b3758"
      },
      "execution_count": 3,
      "outputs": [
        {
          "output_type": "stream",
          "name": "stdout",
          "text": [
            "Requirement already satisfied: yara-python in /usr/local/lib/python3.11/dist-packages (4.5.4)\n"
          ]
        }
      ]
    },
    {
      "cell_type": "code",
      "source": [
        "# hashlib은 이제 내장되어있다/\n",
        "#!pip install\\ hashlib"
      ],
      "metadata": {
        "id": "VfQq7lZuwHeW"
      },
      "execution_count": 4,
      "outputs": []
    },
    {
      "cell_type": "code",
      "source": [
        "# 추가 라이브러리 import\n",
        "import hashlib\n",
        "import pefile\n",
        "import yara"
      ],
      "metadata": {
        "id": "WzctqhJgrW_n"
      },
      "execution_count": 5,
      "outputs": []
    },
    {
      "cell_type": "markdown",
      "source": [
        "## 데이터 로드"
      ],
      "metadata": {
        "id": "DOCggYDLCujt"
      }
    },
    {
      "cell_type": "code",
      "source": [
        "# 구글 드라이브 mount\n",
        "drive.mount('/content/gdrive')\n"
      ],
      "metadata": {
        "id": "xk-xedhaCyDe",
        "colab": {
          "base_uri": "https://localhost:8080/"
        },
        "outputId": "6415f205-abdb-4392-d809-43f11b2b6596"
      },
      "execution_count": 6,
      "outputs": [
        {
          "output_type": "stream",
          "name": "stdout",
          "text": [
            "Mounted at /content/gdrive\n"
          ]
        }
      ]
    },
    {
      "cell_type": "code",
      "source": [
        "# 데이터 파일 위치\n",
        "colab_path = \"gdrive/My Drive/AI보안교육/part2/data/\"\n"
      ],
      "metadata": {
        "id": "0r8Vy1XBD2dl"
      },
      "execution_count": 7,
      "outputs": []
    },
    {
      "cell_type": "markdown",
      "source": [
        "# 메타데이터 분석"
      ],
      "metadata": {
        "id": "ZHm050O-spFt"
      }
    },
    {
      "cell_type": "markdown",
      "source": [
        "## 메타데이터 - Hash"
      ],
      "metadata": {
        "id": "VoYSXs5adome"
      }
    },
    {
      "cell_type": "code",
      "source": [
        "# DataFrame 초기화\n",
        "feature_dict = {'hash':[], 'target':[]}\n",
        "\n",
        "# Hash를 구하기 위해 hashlib 라이브러리 사용\n",
        "for dir in os.listdir(colab_path):\n",
        "    file_path = colab_path + dir + '/'\n",
        "    for filename in os.listdir(file_path):\n",
        "        f = open(file_path + filename, 'rb') #바이너리 모드로 읽기\n",
        "        data = f.read()\n",
        "        hash = hashlib.sha256(data).hexdigest()\n",
        "        feature_dict['hash'].append(hash)\n",
        "        if dir == \"normal\":\n",
        "            feature_dict['target'].append(0)\n",
        "        else:\n",
        "            feature_dict['target'].append(1)\n",
        "df = pd.DataFrame.from_dict(feature_dict)\n",
        "df = df.set_index('hash')"
      ],
      "metadata": {
        "id": "IOQQx-SOl7yX"
      },
      "execution_count": 18,
      "outputs": []
    },
    {
      "cell_type": "code",
      "source": [
        "df"
      ],
      "metadata": {
        "id": "6NV_-97YR07N",
        "colab": {
          "base_uri": "https://localhost:8080/",
          "height": 363
        },
        "outputId": "52935f5f-86c5-4ce5-ef18-1aacc52ee9e6"
      },
      "execution_count": 19,
      "outputs": [
        {
          "output_type": "execute_result",
          "data": {
            "text/plain": [
              "                                                    target\n",
              "hash                                                      \n",
              "d0ceb18272966ab62b8edff100e9b4a6a3cb5dc0f2a32b2...       1\n",
              "96cdfd7b263947a6a7c0db54141a6b8d7777db0a03a17cb...       1\n",
              "5a780d6630639ffb7fd3d295c182eaa2a7cad2c70248c5b...       1\n",
              "f5b4fb293ada97a8c4b92bb380747da1d71336f144332c9...       1\n",
              "908b64b1971a979c7e3e8ce4621945cba84854cb98d7636...       1\n",
              "f1d62648ef915d85cb4fc140359e925395d315c70f3566b...       0\n",
              "6635e48ad3f02fe5cac9669f974d27ec2fa77b1f6b519f0...       0\n",
              "f1e3d8851c7b41e3838eae69a95224c92abd9a33117238e...       0\n",
              "58189cbd4e6dc0c7d8e66b6a6f75652fc9f4afc7ce0eba7...       0"
            ],
            "text/html": [
              "\n",
              "  <div id=\"df-53ae4caf-1fab-4a43-8647-823ecb1286ca\" class=\"colab-df-container\">\n",
              "    <div>\n",
              "<style scoped>\n",
              "    .dataframe tbody tr th:only-of-type {\n",
              "        vertical-align: middle;\n",
              "    }\n",
              "\n",
              "    .dataframe tbody tr th {\n",
              "        vertical-align: top;\n",
              "    }\n",
              "\n",
              "    .dataframe thead th {\n",
              "        text-align: right;\n",
              "    }\n",
              "</style>\n",
              "<table border=\"1\" class=\"dataframe\">\n",
              "  <thead>\n",
              "    <tr style=\"text-align: right;\">\n",
              "      <th></th>\n",
              "      <th>target</th>\n",
              "    </tr>\n",
              "    <tr>\n",
              "      <th>hash</th>\n",
              "      <th></th>\n",
              "    </tr>\n",
              "  </thead>\n",
              "  <tbody>\n",
              "    <tr>\n",
              "      <th>d0ceb18272966ab62b8edff100e9b4a6a3cb5dc0f2a32b2b18721fea2d9c09a5</th>\n",
              "      <td>1</td>\n",
              "    </tr>\n",
              "    <tr>\n",
              "      <th>96cdfd7b263947a6a7c0db54141a6b8d7777db0a03a17cbf95666d98422f937b</th>\n",
              "      <td>1</td>\n",
              "    </tr>\n",
              "    <tr>\n",
              "      <th>5a780d6630639ffb7fd3d295c182eaa2a7cad2c70248c5ba8f334bb3803353ca</th>\n",
              "      <td>1</td>\n",
              "    </tr>\n",
              "    <tr>\n",
              "      <th>f5b4fb293ada97a8c4b92bb380747da1d71336f144332c95ddef3f8522f7ce87</th>\n",
              "      <td>1</td>\n",
              "    </tr>\n",
              "    <tr>\n",
              "      <th>908b64b1971a979c7e3e8ce4621945cba84854cb98d76367b791a6e22b5f6d53</th>\n",
              "      <td>1</td>\n",
              "    </tr>\n",
              "    <tr>\n",
              "      <th>f1d62648ef915d85cb4fc140359e925395d315c70f3566b63bb3e21151cb2ce3</th>\n",
              "      <td>0</td>\n",
              "    </tr>\n",
              "    <tr>\n",
              "      <th>6635e48ad3f02fe5cac9669f974d27ec2fa77b1f6b519f09616630b6531a6ca8</th>\n",
              "      <td>0</td>\n",
              "    </tr>\n",
              "    <tr>\n",
              "      <th>f1e3d8851c7b41e3838eae69a95224c92abd9a33117238ef9730233b5b14cdc2</th>\n",
              "      <td>0</td>\n",
              "    </tr>\n",
              "    <tr>\n",
              "      <th>58189cbd4e6dc0c7d8e66b6a6f75652fc9f4afc7ce0eba7d67d8c3feb0d5381f</th>\n",
              "      <td>0</td>\n",
              "    </tr>\n",
              "  </tbody>\n",
              "</table>\n",
              "</div>\n",
              "    <div class=\"colab-df-buttons\">\n",
              "\n",
              "  <div class=\"colab-df-container\">\n",
              "    <button class=\"colab-df-convert\" onclick=\"convertToInteractive('df-53ae4caf-1fab-4a43-8647-823ecb1286ca')\"\n",
              "            title=\"Convert this dataframe to an interactive table.\"\n",
              "            style=\"display:none;\">\n",
              "\n",
              "  <svg xmlns=\"http://www.w3.org/2000/svg\" height=\"24px\" viewBox=\"0 -960 960 960\">\n",
              "    <path d=\"M120-120v-720h720v720H120Zm60-500h600v-160H180v160Zm220 220h160v-160H400v160Zm0 220h160v-160H400v160ZM180-400h160v-160H180v160Zm440 0h160v-160H620v160ZM180-180h160v-160H180v160Zm440 0h160v-160H620v160Z\"/>\n",
              "  </svg>\n",
              "    </button>\n",
              "\n",
              "  <style>\n",
              "    .colab-df-container {\n",
              "      display:flex;\n",
              "      gap: 12px;\n",
              "    }\n",
              "\n",
              "    .colab-df-convert {\n",
              "      background-color: #E8F0FE;\n",
              "      border: none;\n",
              "      border-radius: 50%;\n",
              "      cursor: pointer;\n",
              "      display: none;\n",
              "      fill: #1967D2;\n",
              "      height: 32px;\n",
              "      padding: 0 0 0 0;\n",
              "      width: 32px;\n",
              "    }\n",
              "\n",
              "    .colab-df-convert:hover {\n",
              "      background-color: #E2EBFA;\n",
              "      box-shadow: 0px 1px 2px rgba(60, 64, 67, 0.3), 0px 1px 3px 1px rgba(60, 64, 67, 0.15);\n",
              "      fill: #174EA6;\n",
              "    }\n",
              "\n",
              "    .colab-df-buttons div {\n",
              "      margin-bottom: 4px;\n",
              "    }\n",
              "\n",
              "    [theme=dark] .colab-df-convert {\n",
              "      background-color: #3B4455;\n",
              "      fill: #D2E3FC;\n",
              "    }\n",
              "\n",
              "    [theme=dark] .colab-df-convert:hover {\n",
              "      background-color: #434B5C;\n",
              "      box-shadow: 0px 1px 3px 1px rgba(0, 0, 0, 0.15);\n",
              "      filter: drop-shadow(0px 1px 2px rgba(0, 0, 0, 0.3));\n",
              "      fill: #FFFFFF;\n",
              "    }\n",
              "  </style>\n",
              "\n",
              "    <script>\n",
              "      const buttonEl =\n",
              "        document.querySelector('#df-53ae4caf-1fab-4a43-8647-823ecb1286ca button.colab-df-convert');\n",
              "      buttonEl.style.display =\n",
              "        google.colab.kernel.accessAllowed ? 'block' : 'none';\n",
              "\n",
              "      async function convertToInteractive(key) {\n",
              "        const element = document.querySelector('#df-53ae4caf-1fab-4a43-8647-823ecb1286ca');\n",
              "        const dataTable =\n",
              "          await google.colab.kernel.invokeFunction('convertToInteractive',\n",
              "                                                    [key], {});\n",
              "        if (!dataTable) return;\n",
              "\n",
              "        const docLinkHtml = 'Like what you see? Visit the ' +\n",
              "          '<a target=\"_blank\" href=https://colab.research.google.com/notebooks/data_table.ipynb>data table notebook</a>'\n",
              "          + ' to learn more about interactive tables.';\n",
              "        element.innerHTML = '';\n",
              "        dataTable['output_type'] = 'display_data';\n",
              "        await google.colab.output.renderOutput(dataTable, element);\n",
              "        const docLink = document.createElement('div');\n",
              "        docLink.innerHTML = docLinkHtml;\n",
              "        element.appendChild(docLink);\n",
              "      }\n",
              "    </script>\n",
              "  </div>\n",
              "\n",
              "\n",
              "    <div id=\"df-8a3997a0-06aa-492d-b99b-e8253a077568\">\n",
              "      <button class=\"colab-df-quickchart\" onclick=\"quickchart('df-8a3997a0-06aa-492d-b99b-e8253a077568')\"\n",
              "                title=\"Suggest charts\"\n",
              "                style=\"display:none;\">\n",
              "\n",
              "<svg xmlns=\"http://www.w3.org/2000/svg\" height=\"24px\"viewBox=\"0 0 24 24\"\n",
              "     width=\"24px\">\n",
              "    <g>\n",
              "        <path d=\"M19 3H5c-1.1 0-2 .9-2 2v14c0 1.1.9 2 2 2h14c1.1 0 2-.9 2-2V5c0-1.1-.9-2-2-2zM9 17H7v-7h2v7zm4 0h-2V7h2v10zm4 0h-2v-4h2v4z\"/>\n",
              "    </g>\n",
              "</svg>\n",
              "      </button>\n",
              "\n",
              "<style>\n",
              "  .colab-df-quickchart {\n",
              "      --bg-color: #E8F0FE;\n",
              "      --fill-color: #1967D2;\n",
              "      --hover-bg-color: #E2EBFA;\n",
              "      --hover-fill-color: #174EA6;\n",
              "      --disabled-fill-color: #AAA;\n",
              "      --disabled-bg-color: #DDD;\n",
              "  }\n",
              "\n",
              "  [theme=dark] .colab-df-quickchart {\n",
              "      --bg-color: #3B4455;\n",
              "      --fill-color: #D2E3FC;\n",
              "      --hover-bg-color: #434B5C;\n",
              "      --hover-fill-color: #FFFFFF;\n",
              "      --disabled-bg-color: #3B4455;\n",
              "      --disabled-fill-color: #666;\n",
              "  }\n",
              "\n",
              "  .colab-df-quickchart {\n",
              "    background-color: var(--bg-color);\n",
              "    border: none;\n",
              "    border-radius: 50%;\n",
              "    cursor: pointer;\n",
              "    display: none;\n",
              "    fill: var(--fill-color);\n",
              "    height: 32px;\n",
              "    padding: 0;\n",
              "    width: 32px;\n",
              "  }\n",
              "\n",
              "  .colab-df-quickchart:hover {\n",
              "    background-color: var(--hover-bg-color);\n",
              "    box-shadow: 0 1px 2px rgba(60, 64, 67, 0.3), 0 1px 3px 1px rgba(60, 64, 67, 0.15);\n",
              "    fill: var(--button-hover-fill-color);\n",
              "  }\n",
              "\n",
              "  .colab-df-quickchart-complete:disabled,\n",
              "  .colab-df-quickchart-complete:disabled:hover {\n",
              "    background-color: var(--disabled-bg-color);\n",
              "    fill: var(--disabled-fill-color);\n",
              "    box-shadow: none;\n",
              "  }\n",
              "\n",
              "  .colab-df-spinner {\n",
              "    border: 2px solid var(--fill-color);\n",
              "    border-color: transparent;\n",
              "    border-bottom-color: var(--fill-color);\n",
              "    animation:\n",
              "      spin 1s steps(1) infinite;\n",
              "  }\n",
              "\n",
              "  @keyframes spin {\n",
              "    0% {\n",
              "      border-color: transparent;\n",
              "      border-bottom-color: var(--fill-color);\n",
              "      border-left-color: var(--fill-color);\n",
              "    }\n",
              "    20% {\n",
              "      border-color: transparent;\n",
              "      border-left-color: var(--fill-color);\n",
              "      border-top-color: var(--fill-color);\n",
              "    }\n",
              "    30% {\n",
              "      border-color: transparent;\n",
              "      border-left-color: var(--fill-color);\n",
              "      border-top-color: var(--fill-color);\n",
              "      border-right-color: var(--fill-color);\n",
              "    }\n",
              "    40% {\n",
              "      border-color: transparent;\n",
              "      border-right-color: var(--fill-color);\n",
              "      border-top-color: var(--fill-color);\n",
              "    }\n",
              "    60% {\n",
              "      border-color: transparent;\n",
              "      border-right-color: var(--fill-color);\n",
              "    }\n",
              "    80% {\n",
              "      border-color: transparent;\n",
              "      border-right-color: var(--fill-color);\n",
              "      border-bottom-color: var(--fill-color);\n",
              "    }\n",
              "    90% {\n",
              "      border-color: transparent;\n",
              "      border-bottom-color: var(--fill-color);\n",
              "    }\n",
              "  }\n",
              "</style>\n",
              "\n",
              "      <script>\n",
              "        async function quickchart(key) {\n",
              "          const quickchartButtonEl =\n",
              "            document.querySelector('#' + key + ' button');\n",
              "          quickchartButtonEl.disabled = true;  // To prevent multiple clicks.\n",
              "          quickchartButtonEl.classList.add('colab-df-spinner');\n",
              "          try {\n",
              "            const charts = await google.colab.kernel.invokeFunction(\n",
              "                'suggestCharts', [key], {});\n",
              "          } catch (error) {\n",
              "            console.error('Error during call to suggestCharts:', error);\n",
              "          }\n",
              "          quickchartButtonEl.classList.remove('colab-df-spinner');\n",
              "          quickchartButtonEl.classList.add('colab-df-quickchart-complete');\n",
              "        }\n",
              "        (() => {\n",
              "          let quickchartButtonEl =\n",
              "            document.querySelector('#df-8a3997a0-06aa-492d-b99b-e8253a077568 button');\n",
              "          quickchartButtonEl.style.display =\n",
              "            google.colab.kernel.accessAllowed ? 'block' : 'none';\n",
              "        })();\n",
              "      </script>\n",
              "    </div>\n",
              "\n",
              "  <div id=\"id_d82ef0f9-28fc-4376-b07c-5f4dc1f8bcb8\">\n",
              "    <style>\n",
              "      .colab-df-generate {\n",
              "        background-color: #E8F0FE;\n",
              "        border: none;\n",
              "        border-radius: 50%;\n",
              "        cursor: pointer;\n",
              "        display: none;\n",
              "        fill: #1967D2;\n",
              "        height: 32px;\n",
              "        padding: 0 0 0 0;\n",
              "        width: 32px;\n",
              "      }\n",
              "\n",
              "      .colab-df-generate:hover {\n",
              "        background-color: #E2EBFA;\n",
              "        box-shadow: 0px 1px 2px rgba(60, 64, 67, 0.3), 0px 1px 3px 1px rgba(60, 64, 67, 0.15);\n",
              "        fill: #174EA6;\n",
              "      }\n",
              "\n",
              "      [theme=dark] .colab-df-generate {\n",
              "        background-color: #3B4455;\n",
              "        fill: #D2E3FC;\n",
              "      }\n",
              "\n",
              "      [theme=dark] .colab-df-generate:hover {\n",
              "        background-color: #434B5C;\n",
              "        box-shadow: 0px 1px 3px 1px rgba(0, 0, 0, 0.15);\n",
              "        filter: drop-shadow(0px 1px 2px rgba(0, 0, 0, 0.3));\n",
              "        fill: #FFFFFF;\n",
              "      }\n",
              "    </style>\n",
              "    <button class=\"colab-df-generate\" onclick=\"generateWithVariable('df')\"\n",
              "            title=\"Generate code using this dataframe.\"\n",
              "            style=\"display:none;\">\n",
              "\n",
              "  <svg xmlns=\"http://www.w3.org/2000/svg\" height=\"24px\"viewBox=\"0 0 24 24\"\n",
              "       width=\"24px\">\n",
              "    <path d=\"M7,19H8.4L18.45,9,17,7.55,7,17.6ZM5,21V16.75L18.45,3.32a2,2,0,0,1,2.83,0l1.4,1.43a1.91,1.91,0,0,1,.58,1.4,1.91,1.91,0,0,1-.58,1.4L9.25,21ZM18.45,9,17,7.55Zm-12,3A5.31,5.31,0,0,0,4.9,8.1,5.31,5.31,0,0,0,1,6.5,5.31,5.31,0,0,0,4.9,4.9,5.31,5.31,0,0,0,6.5,1,5.31,5.31,0,0,0,8.1,4.9,5.31,5.31,0,0,0,12,6.5,5.46,5.46,0,0,0,6.5,12Z\"/>\n",
              "  </svg>\n",
              "    </button>\n",
              "    <script>\n",
              "      (() => {\n",
              "      const buttonEl =\n",
              "        document.querySelector('#id_d82ef0f9-28fc-4376-b07c-5f4dc1f8bcb8 button.colab-df-generate');\n",
              "      buttonEl.style.display =\n",
              "        google.colab.kernel.accessAllowed ? 'block' : 'none';\n",
              "\n",
              "      buttonEl.onclick = () => {\n",
              "        google.colab.notebook.generateWithVariable('df');\n",
              "      }\n",
              "      })();\n",
              "    </script>\n",
              "  </div>\n",
              "\n",
              "    </div>\n",
              "  </div>\n"
            ],
            "application/vnd.google.colaboratory.intrinsic+json": {
              "type": "dataframe",
              "variable_name": "df",
              "summary": "{\n  \"name\": \"df\",\n  \"rows\": 9,\n  \"fields\": [\n    {\n      \"column\": \"hash\",\n      \"properties\": {\n        \"dtype\": \"string\",\n        \"num_unique_values\": 9,\n        \"samples\": [\n          \"f1e3d8851c7b41e3838eae69a95224c92abd9a33117238ef9730233b5b14cdc2\",\n          \"96cdfd7b263947a6a7c0db54141a6b8d7777db0a03a17cbf95666d98422f937b\",\n          \"f1d62648ef915d85cb4fc140359e925395d315c70f3566b63bb3e21151cb2ce3\"\n        ],\n        \"semantic_type\": \"\",\n        \"description\": \"\"\n      }\n    },\n    {\n      \"column\": \"target\",\n      \"properties\": {\n        \"dtype\": \"number\",\n        \"std\": 0,\n        \"min\": 0,\n        \"max\": 1,\n        \"num_unique_values\": 2,\n        \"samples\": [\n          0,\n          1\n        ],\n        \"semantic_type\": \"\",\n        \"description\": \"\"\n      }\n    }\n  ]\n}"
            }
          },
          "metadata": {},
          "execution_count": 19
        }
      ]
    },
    {
      "cell_type": "code",
      "source": [
        "# DataFrame 초기화\n",
        "feature_dict = {\"filename\":[], 'md5':[], 'sha256':[], 'sha512':[], 'target':[]}\n",
        "\n",
        "# Hash를 구하기 위해 hashlib 라이브러리 사용\n",
        "for dir in os.listdir(colab_path):\n",
        "    file_path = colab_path + dir + '/'\n",
        "    for filename in os.listdir(file_path):\n",
        "        f = open(file_path + filename, 'rb') #바이너리 모드로 읽기\n",
        "        data = f.read()\n",
        "        hash = hashlib.sha256(data).hexdigest()\n",
        "        md5 = hashlib.md5(data).hexdigest()\n",
        "        sha256 = hashlib.sha256(data).hexdigest()\n",
        "        sha512 = hashlib.sha512(data).hexdigest()\n",
        "        feature_dict['filename'].append(filename)\n",
        "        feature_dict['md5'].append(md5)\n",
        "        feature_dict['sha256'].append(sha256)\n",
        "        feature_dict['sha512'].append(sha512)\n",
        "        if dir == \"normal\":\n",
        "            feature_dict['target'].append(0)\n",
        "        else:\n",
        "            feature_dict['target'].append(1)\n",
        "df2 = pd.DataFrame.from_dict(feature_dict)\n",
        "df2 = df2.set_index('filename')"
      ],
      "metadata": {
        "id": "emP0h3iO0Svu"
      },
      "execution_count": 20,
      "outputs": []
    },
    {
      "cell_type": "code",
      "source": [
        "df2"
      ],
      "metadata": {
        "colab": {
          "base_uri": "https://localhost:8080/",
          "height": 383
        },
        "id": "ccbBz2Vf02lF",
        "outputId": "40e6d44f-d0c9-411b-ad44-7e0ef606a23f"
      },
      "execution_count": 21,
      "outputs": [
        {
          "output_type": "execute_result",
          "data": {
            "text/plain": [
              "                                               md5  \\\n",
              "filename                                             \n",
              "cmd.exe           9d59442313565c2e0860b88bf32b2277   \n",
              "net.exe           a63df9a6e9098cc189f2a3efc37600f6   \n",
              "NETSTAT.EXE       2445dece99deedbd701dc6dfe10e648e   \n",
              "systeminfo.exe    4e678d82dde61aaaca201f9636507f9e   \n",
              "powershell.exe    cda48fc75952ad12d99e526d0b6bf70a   \n",
              "notepad.exe       f1139811bbf61362915958806ad30211   \n",
              "SnippingTool.exe  d57ca86ac22dc057456acc7fde4e492f   \n",
              "mspaint.exe       33a61f754d9433d6cc37388ce2711040   \n",
              "calc.exe          5da8c98136d98dfec4716edd79c7145f   \n",
              "\n",
              "                                                             sha256  \\\n",
              "filename                                                              \n",
              "cmd.exe           d0ceb18272966ab62b8edff100e9b4a6a3cb5dc0f2a32b...   \n",
              "net.exe           96cdfd7b263947a6a7c0db54141a6b8d7777db0a03a17c...   \n",
              "NETSTAT.EXE       5a780d6630639ffb7fd3d295c182eaa2a7cad2c70248c5...   \n",
              "systeminfo.exe    f5b4fb293ada97a8c4b92bb380747da1d71336f144332c...   \n",
              "powershell.exe    908b64b1971a979c7e3e8ce4621945cba84854cb98d763...   \n",
              "notepad.exe       f1d62648ef915d85cb4fc140359e925395d315c70f3566...   \n",
              "SnippingTool.exe  6635e48ad3f02fe5cac9669f974d27ec2fa77b1f6b519f...   \n",
              "mspaint.exe       f1e3d8851c7b41e3838eae69a95224c92abd9a33117238...   \n",
              "calc.exe          58189cbd4e6dc0c7d8e66b6a6f75652fc9f4afc7ce0eba...   \n",
              "\n",
              "                                                             sha512  target  \n",
              "filename                                                                     \n",
              "cmd.exe           c489ccb79a65ec41800db7e95d8e4993d7780488355869...       1  \n",
              "net.exe           38fb182b83a4d069bc2f3773f6a1b103fce7f0b9d6b6d5...       1  \n",
              "NETSTAT.EXE       5815bea5548b47515ce4df76b1cd9618f71a8307aafc7e...       1  \n",
              "systeminfo.exe    395bf5a1069ac4da7893524337e8e90b4367392c58ded4...       1  \n",
              "powershell.exe    31946a5c80088646fe951081e88a7478b804da874236a4...       1  \n",
              "notepad.exe       5c13fdb1e973d146f6bc33083a023d18bb54d075d7fded...       0  \n",
              "SnippingTool.exe  c0c1145e229d73b939df48b69f7eff80ea3cabb8292349...       0  \n",
              "mspaint.exe       8fe75d720a438ab215f22b5ee873e4476ddd7d9758d2e0...       0  \n",
              "calc.exe          6e2b067760ec178cdcc4df04c541ce6940fc2a0cdd36f5...       0  "
            ],
            "text/html": [
              "\n",
              "  <div id=\"df-f9577f3c-43d5-4195-9de6-8a58557d799a\" class=\"colab-df-container\">\n",
              "    <div>\n",
              "<style scoped>\n",
              "    .dataframe tbody tr th:only-of-type {\n",
              "        vertical-align: middle;\n",
              "    }\n",
              "\n",
              "    .dataframe tbody tr th {\n",
              "        vertical-align: top;\n",
              "    }\n",
              "\n",
              "    .dataframe thead th {\n",
              "        text-align: right;\n",
              "    }\n",
              "</style>\n",
              "<table border=\"1\" class=\"dataframe\">\n",
              "  <thead>\n",
              "    <tr style=\"text-align: right;\">\n",
              "      <th></th>\n",
              "      <th>md5</th>\n",
              "      <th>sha256</th>\n",
              "      <th>sha512</th>\n",
              "      <th>target</th>\n",
              "    </tr>\n",
              "    <tr>\n",
              "      <th>filename</th>\n",
              "      <th></th>\n",
              "      <th></th>\n",
              "      <th></th>\n",
              "      <th></th>\n",
              "    </tr>\n",
              "  </thead>\n",
              "  <tbody>\n",
              "    <tr>\n",
              "      <th>cmd.exe</th>\n",
              "      <td>9d59442313565c2e0860b88bf32b2277</td>\n",
              "      <td>d0ceb18272966ab62b8edff100e9b4a6a3cb5dc0f2a32b...</td>\n",
              "      <td>c489ccb79a65ec41800db7e95d8e4993d7780488355869...</td>\n",
              "      <td>1</td>\n",
              "    </tr>\n",
              "    <tr>\n",
              "      <th>net.exe</th>\n",
              "      <td>a63df9a6e9098cc189f2a3efc37600f6</td>\n",
              "      <td>96cdfd7b263947a6a7c0db54141a6b8d7777db0a03a17c...</td>\n",
              "      <td>38fb182b83a4d069bc2f3773f6a1b103fce7f0b9d6b6d5...</td>\n",
              "      <td>1</td>\n",
              "    </tr>\n",
              "    <tr>\n",
              "      <th>NETSTAT.EXE</th>\n",
              "      <td>2445dece99deedbd701dc6dfe10e648e</td>\n",
              "      <td>5a780d6630639ffb7fd3d295c182eaa2a7cad2c70248c5...</td>\n",
              "      <td>5815bea5548b47515ce4df76b1cd9618f71a8307aafc7e...</td>\n",
              "      <td>1</td>\n",
              "    </tr>\n",
              "    <tr>\n",
              "      <th>systeminfo.exe</th>\n",
              "      <td>4e678d82dde61aaaca201f9636507f9e</td>\n",
              "      <td>f5b4fb293ada97a8c4b92bb380747da1d71336f144332c...</td>\n",
              "      <td>395bf5a1069ac4da7893524337e8e90b4367392c58ded4...</td>\n",
              "      <td>1</td>\n",
              "    </tr>\n",
              "    <tr>\n",
              "      <th>powershell.exe</th>\n",
              "      <td>cda48fc75952ad12d99e526d0b6bf70a</td>\n",
              "      <td>908b64b1971a979c7e3e8ce4621945cba84854cb98d763...</td>\n",
              "      <td>31946a5c80088646fe951081e88a7478b804da874236a4...</td>\n",
              "      <td>1</td>\n",
              "    </tr>\n",
              "    <tr>\n",
              "      <th>notepad.exe</th>\n",
              "      <td>f1139811bbf61362915958806ad30211</td>\n",
              "      <td>f1d62648ef915d85cb4fc140359e925395d315c70f3566...</td>\n",
              "      <td>5c13fdb1e973d146f6bc33083a023d18bb54d075d7fded...</td>\n",
              "      <td>0</td>\n",
              "    </tr>\n",
              "    <tr>\n",
              "      <th>SnippingTool.exe</th>\n",
              "      <td>d57ca86ac22dc057456acc7fde4e492f</td>\n",
              "      <td>6635e48ad3f02fe5cac9669f974d27ec2fa77b1f6b519f...</td>\n",
              "      <td>c0c1145e229d73b939df48b69f7eff80ea3cabb8292349...</td>\n",
              "      <td>0</td>\n",
              "    </tr>\n",
              "    <tr>\n",
              "      <th>mspaint.exe</th>\n",
              "      <td>33a61f754d9433d6cc37388ce2711040</td>\n",
              "      <td>f1e3d8851c7b41e3838eae69a95224c92abd9a33117238...</td>\n",
              "      <td>8fe75d720a438ab215f22b5ee873e4476ddd7d9758d2e0...</td>\n",
              "      <td>0</td>\n",
              "    </tr>\n",
              "    <tr>\n",
              "      <th>calc.exe</th>\n",
              "      <td>5da8c98136d98dfec4716edd79c7145f</td>\n",
              "      <td>58189cbd4e6dc0c7d8e66b6a6f75652fc9f4afc7ce0eba...</td>\n",
              "      <td>6e2b067760ec178cdcc4df04c541ce6940fc2a0cdd36f5...</td>\n",
              "      <td>0</td>\n",
              "    </tr>\n",
              "  </tbody>\n",
              "</table>\n",
              "</div>\n",
              "    <div class=\"colab-df-buttons\">\n",
              "\n",
              "  <div class=\"colab-df-container\">\n",
              "    <button class=\"colab-df-convert\" onclick=\"convertToInteractive('df-f9577f3c-43d5-4195-9de6-8a58557d799a')\"\n",
              "            title=\"Convert this dataframe to an interactive table.\"\n",
              "            style=\"display:none;\">\n",
              "\n",
              "  <svg xmlns=\"http://www.w3.org/2000/svg\" height=\"24px\" viewBox=\"0 -960 960 960\">\n",
              "    <path d=\"M120-120v-720h720v720H120Zm60-500h600v-160H180v160Zm220 220h160v-160H400v160Zm0 220h160v-160H400v160ZM180-400h160v-160H180v160Zm440 0h160v-160H620v160ZM180-180h160v-160H180v160Zm440 0h160v-160H620v160Z\"/>\n",
              "  </svg>\n",
              "    </button>\n",
              "\n",
              "  <style>\n",
              "    .colab-df-container {\n",
              "      display:flex;\n",
              "      gap: 12px;\n",
              "    }\n",
              "\n",
              "    .colab-df-convert {\n",
              "      background-color: #E8F0FE;\n",
              "      border: none;\n",
              "      border-radius: 50%;\n",
              "      cursor: pointer;\n",
              "      display: none;\n",
              "      fill: #1967D2;\n",
              "      height: 32px;\n",
              "      padding: 0 0 0 0;\n",
              "      width: 32px;\n",
              "    }\n",
              "\n",
              "    .colab-df-convert:hover {\n",
              "      background-color: #E2EBFA;\n",
              "      box-shadow: 0px 1px 2px rgba(60, 64, 67, 0.3), 0px 1px 3px 1px rgba(60, 64, 67, 0.15);\n",
              "      fill: #174EA6;\n",
              "    }\n",
              "\n",
              "    .colab-df-buttons div {\n",
              "      margin-bottom: 4px;\n",
              "    }\n",
              "\n",
              "    [theme=dark] .colab-df-convert {\n",
              "      background-color: #3B4455;\n",
              "      fill: #D2E3FC;\n",
              "    }\n",
              "\n",
              "    [theme=dark] .colab-df-convert:hover {\n",
              "      background-color: #434B5C;\n",
              "      box-shadow: 0px 1px 3px 1px rgba(0, 0, 0, 0.15);\n",
              "      filter: drop-shadow(0px 1px 2px rgba(0, 0, 0, 0.3));\n",
              "      fill: #FFFFFF;\n",
              "    }\n",
              "  </style>\n",
              "\n",
              "    <script>\n",
              "      const buttonEl =\n",
              "        document.querySelector('#df-f9577f3c-43d5-4195-9de6-8a58557d799a button.colab-df-convert');\n",
              "      buttonEl.style.display =\n",
              "        google.colab.kernel.accessAllowed ? 'block' : 'none';\n",
              "\n",
              "      async function convertToInteractive(key) {\n",
              "        const element = document.querySelector('#df-f9577f3c-43d5-4195-9de6-8a58557d799a');\n",
              "        const dataTable =\n",
              "          await google.colab.kernel.invokeFunction('convertToInteractive',\n",
              "                                                    [key], {});\n",
              "        if (!dataTable) return;\n",
              "\n",
              "        const docLinkHtml = 'Like what you see? Visit the ' +\n",
              "          '<a target=\"_blank\" href=https://colab.research.google.com/notebooks/data_table.ipynb>data table notebook</a>'\n",
              "          + ' to learn more about interactive tables.';\n",
              "        element.innerHTML = '';\n",
              "        dataTable['output_type'] = 'display_data';\n",
              "        await google.colab.output.renderOutput(dataTable, element);\n",
              "        const docLink = document.createElement('div');\n",
              "        docLink.innerHTML = docLinkHtml;\n",
              "        element.appendChild(docLink);\n",
              "      }\n",
              "    </script>\n",
              "  </div>\n",
              "\n",
              "\n",
              "    <div id=\"df-e06cd987-be40-48ef-92e3-c34eabdfe44c\">\n",
              "      <button class=\"colab-df-quickchart\" onclick=\"quickchart('df-e06cd987-be40-48ef-92e3-c34eabdfe44c')\"\n",
              "                title=\"Suggest charts\"\n",
              "                style=\"display:none;\">\n",
              "\n",
              "<svg xmlns=\"http://www.w3.org/2000/svg\" height=\"24px\"viewBox=\"0 0 24 24\"\n",
              "     width=\"24px\">\n",
              "    <g>\n",
              "        <path d=\"M19 3H5c-1.1 0-2 .9-2 2v14c0 1.1.9 2 2 2h14c1.1 0 2-.9 2-2V5c0-1.1-.9-2-2-2zM9 17H7v-7h2v7zm4 0h-2V7h2v10zm4 0h-2v-4h2v4z\"/>\n",
              "    </g>\n",
              "</svg>\n",
              "      </button>\n",
              "\n",
              "<style>\n",
              "  .colab-df-quickchart {\n",
              "      --bg-color: #E8F0FE;\n",
              "      --fill-color: #1967D2;\n",
              "      --hover-bg-color: #E2EBFA;\n",
              "      --hover-fill-color: #174EA6;\n",
              "      --disabled-fill-color: #AAA;\n",
              "      --disabled-bg-color: #DDD;\n",
              "  }\n",
              "\n",
              "  [theme=dark] .colab-df-quickchart {\n",
              "      --bg-color: #3B4455;\n",
              "      --fill-color: #D2E3FC;\n",
              "      --hover-bg-color: #434B5C;\n",
              "      --hover-fill-color: #FFFFFF;\n",
              "      --disabled-bg-color: #3B4455;\n",
              "      --disabled-fill-color: #666;\n",
              "  }\n",
              "\n",
              "  .colab-df-quickchart {\n",
              "    background-color: var(--bg-color);\n",
              "    border: none;\n",
              "    border-radius: 50%;\n",
              "    cursor: pointer;\n",
              "    display: none;\n",
              "    fill: var(--fill-color);\n",
              "    height: 32px;\n",
              "    padding: 0;\n",
              "    width: 32px;\n",
              "  }\n",
              "\n",
              "  .colab-df-quickchart:hover {\n",
              "    background-color: var(--hover-bg-color);\n",
              "    box-shadow: 0 1px 2px rgba(60, 64, 67, 0.3), 0 1px 3px 1px rgba(60, 64, 67, 0.15);\n",
              "    fill: var(--button-hover-fill-color);\n",
              "  }\n",
              "\n",
              "  .colab-df-quickchart-complete:disabled,\n",
              "  .colab-df-quickchart-complete:disabled:hover {\n",
              "    background-color: var(--disabled-bg-color);\n",
              "    fill: var(--disabled-fill-color);\n",
              "    box-shadow: none;\n",
              "  }\n",
              "\n",
              "  .colab-df-spinner {\n",
              "    border: 2px solid var(--fill-color);\n",
              "    border-color: transparent;\n",
              "    border-bottom-color: var(--fill-color);\n",
              "    animation:\n",
              "      spin 1s steps(1) infinite;\n",
              "  }\n",
              "\n",
              "  @keyframes spin {\n",
              "    0% {\n",
              "      border-color: transparent;\n",
              "      border-bottom-color: var(--fill-color);\n",
              "      border-left-color: var(--fill-color);\n",
              "    }\n",
              "    20% {\n",
              "      border-color: transparent;\n",
              "      border-left-color: var(--fill-color);\n",
              "      border-top-color: var(--fill-color);\n",
              "    }\n",
              "    30% {\n",
              "      border-color: transparent;\n",
              "      border-left-color: var(--fill-color);\n",
              "      border-top-color: var(--fill-color);\n",
              "      border-right-color: var(--fill-color);\n",
              "    }\n",
              "    40% {\n",
              "      border-color: transparent;\n",
              "      border-right-color: var(--fill-color);\n",
              "      border-top-color: var(--fill-color);\n",
              "    }\n",
              "    60% {\n",
              "      border-color: transparent;\n",
              "      border-right-color: var(--fill-color);\n",
              "    }\n",
              "    80% {\n",
              "      border-color: transparent;\n",
              "      border-right-color: var(--fill-color);\n",
              "      border-bottom-color: var(--fill-color);\n",
              "    }\n",
              "    90% {\n",
              "      border-color: transparent;\n",
              "      border-bottom-color: var(--fill-color);\n",
              "    }\n",
              "  }\n",
              "</style>\n",
              "\n",
              "      <script>\n",
              "        async function quickchart(key) {\n",
              "          const quickchartButtonEl =\n",
              "            document.querySelector('#' + key + ' button');\n",
              "          quickchartButtonEl.disabled = true;  // To prevent multiple clicks.\n",
              "          quickchartButtonEl.classList.add('colab-df-spinner');\n",
              "          try {\n",
              "            const charts = await google.colab.kernel.invokeFunction(\n",
              "                'suggestCharts', [key], {});\n",
              "          } catch (error) {\n",
              "            console.error('Error during call to suggestCharts:', error);\n",
              "          }\n",
              "          quickchartButtonEl.classList.remove('colab-df-spinner');\n",
              "          quickchartButtonEl.classList.add('colab-df-quickchart-complete');\n",
              "        }\n",
              "        (() => {\n",
              "          let quickchartButtonEl =\n",
              "            document.querySelector('#df-e06cd987-be40-48ef-92e3-c34eabdfe44c button');\n",
              "          quickchartButtonEl.style.display =\n",
              "            google.colab.kernel.accessAllowed ? 'block' : 'none';\n",
              "        })();\n",
              "      </script>\n",
              "    </div>\n",
              "\n",
              "  <div id=\"id_420d03a3-9946-4ab0-bb15-1608431d2f09\">\n",
              "    <style>\n",
              "      .colab-df-generate {\n",
              "        background-color: #E8F0FE;\n",
              "        border: none;\n",
              "        border-radius: 50%;\n",
              "        cursor: pointer;\n",
              "        display: none;\n",
              "        fill: #1967D2;\n",
              "        height: 32px;\n",
              "        padding: 0 0 0 0;\n",
              "        width: 32px;\n",
              "      }\n",
              "\n",
              "      .colab-df-generate:hover {\n",
              "        background-color: #E2EBFA;\n",
              "        box-shadow: 0px 1px 2px rgba(60, 64, 67, 0.3), 0px 1px 3px 1px rgba(60, 64, 67, 0.15);\n",
              "        fill: #174EA6;\n",
              "      }\n",
              "\n",
              "      [theme=dark] .colab-df-generate {\n",
              "        background-color: #3B4455;\n",
              "        fill: #D2E3FC;\n",
              "      }\n",
              "\n",
              "      [theme=dark] .colab-df-generate:hover {\n",
              "        background-color: #434B5C;\n",
              "        box-shadow: 0px 1px 3px 1px rgba(0, 0, 0, 0.15);\n",
              "        filter: drop-shadow(0px 1px 2px rgba(0, 0, 0, 0.3));\n",
              "        fill: #FFFFFF;\n",
              "      }\n",
              "    </style>\n",
              "    <button class=\"colab-df-generate\" onclick=\"generateWithVariable('df2')\"\n",
              "            title=\"Generate code using this dataframe.\"\n",
              "            style=\"display:none;\">\n",
              "\n",
              "  <svg xmlns=\"http://www.w3.org/2000/svg\" height=\"24px\"viewBox=\"0 0 24 24\"\n",
              "       width=\"24px\">\n",
              "    <path d=\"M7,19H8.4L18.45,9,17,7.55,7,17.6ZM5,21V16.75L18.45,3.32a2,2,0,0,1,2.83,0l1.4,1.43a1.91,1.91,0,0,1,.58,1.4,1.91,1.91,0,0,1-.58,1.4L9.25,21ZM18.45,9,17,7.55Zm-12,3A5.31,5.31,0,0,0,4.9,8.1,5.31,5.31,0,0,0,1,6.5,5.31,5.31,0,0,0,4.9,4.9,5.31,5.31,0,0,0,6.5,1,5.31,5.31,0,0,0,8.1,4.9,5.31,5.31,0,0,0,12,6.5,5.46,5.46,0,0,0,6.5,12Z\"/>\n",
              "  </svg>\n",
              "    </button>\n",
              "    <script>\n",
              "      (() => {\n",
              "      const buttonEl =\n",
              "        document.querySelector('#id_420d03a3-9946-4ab0-bb15-1608431d2f09 button.colab-df-generate');\n",
              "      buttonEl.style.display =\n",
              "        google.colab.kernel.accessAllowed ? 'block' : 'none';\n",
              "\n",
              "      buttonEl.onclick = () => {\n",
              "        google.colab.notebook.generateWithVariable('df2');\n",
              "      }\n",
              "      })();\n",
              "    </script>\n",
              "  </div>\n",
              "\n",
              "    </div>\n",
              "  </div>\n"
            ],
            "application/vnd.google.colaboratory.intrinsic+json": {
              "type": "dataframe",
              "variable_name": "df2",
              "summary": "{\n  \"name\": \"df2\",\n  \"rows\": 9,\n  \"fields\": [\n    {\n      \"column\": \"filename\",\n      \"properties\": {\n        \"dtype\": \"string\",\n        \"num_unique_values\": 9,\n        \"samples\": [\n          \"mspaint.exe\",\n          \"net.exe\",\n          \"notepad.exe\"\n        ],\n        \"semantic_type\": \"\",\n        \"description\": \"\"\n      }\n    },\n    {\n      \"column\": \"md5\",\n      \"properties\": {\n        \"dtype\": \"string\",\n        \"num_unique_values\": 9,\n        \"samples\": [\n          \"33a61f754d9433d6cc37388ce2711040\",\n          \"a63df9a6e9098cc189f2a3efc37600f6\",\n          \"f1139811bbf61362915958806ad30211\"\n        ],\n        \"semantic_type\": \"\",\n        \"description\": \"\"\n      }\n    },\n    {\n      \"column\": \"sha256\",\n      \"properties\": {\n        \"dtype\": \"string\",\n        \"num_unique_values\": 9,\n        \"samples\": [\n          \"f1e3d8851c7b41e3838eae69a95224c92abd9a33117238ef9730233b5b14cdc2\",\n          \"96cdfd7b263947a6a7c0db54141a6b8d7777db0a03a17cbf95666d98422f937b\",\n          \"f1d62648ef915d85cb4fc140359e925395d315c70f3566b63bb3e21151cb2ce3\"\n        ],\n        \"semantic_type\": \"\",\n        \"description\": \"\"\n      }\n    },\n    {\n      \"column\": \"sha512\",\n      \"properties\": {\n        \"dtype\": \"string\",\n        \"num_unique_values\": 9,\n        \"samples\": [\n          \"8fe75d720a438ab215f22b5ee873e4476ddd7d9758d2e03d0a3a9d64197f0215b40adf399993762a737a9f3359f9c37b667ef1de0e8a58bd6fd85c97d979d808\",\n          \"38fb182b83a4d069bc2f3773f6a1b103fce7f0b9d6b6d5edac4244d642d01a20d014c2fea2df571decaaa4f4a5ee6b2d210c34aab1560d8dfa8cec84a5749e7a\",\n          \"5c13fdb1e973d146f6bc33083a023d18bb54d075d7fdedf38020021852d3b03face242c2593e872e4e34b5b8204938d19bde0e41c86a567cbcc46fec9c2105fb\"\n        ],\n        \"semantic_type\": \"\",\n        \"description\": \"\"\n      }\n    },\n    {\n      \"column\": \"target\",\n      \"properties\": {\n        \"dtype\": \"number\",\n        \"std\": 0,\n        \"min\": 0,\n        \"max\": 1,\n        \"num_unique_values\": 2,\n        \"samples\": [\n          0,\n          1\n        ],\n        \"semantic_type\": \"\",\n        \"description\": \"\"\n      }\n    }\n  ]\n}"
            }
          },
          "metadata": {},
          "execution_count": 21
        }
      ]
    },
    {
      "cell_type": "markdown",
      "source": [
        "## 메타데이터 - size/name/엔트로피"
      ],
      "metadata": {
        "id": "zOPZcEaQBx8h"
      }
    },
    {
      "cell_type": "code",
      "source": [
        "from scipy import stats\n",
        "\n",
        "def get_entropy(filename, start, end):\n",
        "    f = open(filename, 'rb') #바이트 단위로 read\n",
        "    information = []\n",
        "    for i in range(end-start):\n",
        "        s = f.read(1)\n",
        "        # 1바이트씩(0~255) 읽어서 정수로 변환: 같은 byte의 발생 frequency 계산을 위해\n",
        "        information.append(int.from_bytes(s, 'little'))\n",
        "    value, counts = np.unique(information, return_counts=True)\n",
        "    # 0~255 각 값의 발생확률을 scipy.stats.entropy를 통해 엔트로피 계산\n",
        "    probs = counts/sum(counts)\n",
        "    result = stats.entropy(probs, base=2)\n",
        "    return result"
      ],
      "metadata": {
        "id": "R3XBzgVxTiHE"
      },
      "execution_count": null,
      "outputs": []
    },
    {
      "cell_type": "code",
      "source": [
        "# 최종적으로는 파일을 한 번 Load하여 관련 Feature를 전부 추출하겠지만,\n",
        "# 여기에서는 이론과 병행 학습을 위해 매번 파일을 로드하여 Feature를 하나씩 추가하는 방식을 택한다.\n",
        "\n",
        "df['size'] = None\n",
        "df['filename'] = None\n",
        "df['entropy'] = None\n",
        "\n",
        "for dir in os.listdir(colab_path):\n",
        "    file_path = colab_path + dir + '/'\n",
        "    for filename in os.listdir(file_path):\n",
        "        f = open(file_path + filename, 'rb')\n",
        "        data = f.read()\n",
        "        hash = hashlib.sha256(data).hexdigest()\n",
        "        # hash값 기준으로 size 등 정보 기록\n",
        "\n",
        "\n"
      ],
      "metadata": {
        "id": "FSnnKc17Bu-w"
      },
      "execution_count": null,
      "outputs": []
    },
    {
      "cell_type": "code",
      "source": [
        "df"
      ],
      "metadata": {
        "id": "STwI7RQclvRH"
      },
      "execution_count": null,
      "outputs": []
    },
    {
      "cell_type": "markdown",
      "source": [
        "# PE Information"
      ],
      "metadata": {
        "id": "Piu2Pk9EAKwZ"
      }
    },
    {
      "cell_type": "markdown",
      "source": [
        "## PE Information - Image File Characteristics"
      ],
      "metadata": {
        "id": "9ng3Fpj-iTwa"
      }
    },
    {
      "cell_type": "code",
      "source": [
        "# 구조체 정보 확인\n",
        "target_file = colab_path + \"normal/calc.exe\"\n",
        "pe = pefile.PE(target_file)\n",
        "hex(pe.FILE_HEADER.Characteristics)"
      ],
      "metadata": {
        "id": "fvH9qqv3oROS"
      },
      "execution_count": null,
      "outputs": []
    },
    {
      "cell_type": "code",
      "source": [
        "# Feature로 등록\n",
        "df['IFC'] = None\n",
        "\n",
        "for dir in os.listdir(colab_path):\n",
        "    file_path = colab_path + dir + '/'\n",
        "    for filename in os.listdir(file_path):\n",
        "        f = open(file_path + filename, 'rb')\n",
        "        data = f.read()\n",
        "        hash = hashlib.sha256(data).hexdigest()\n",
        "        # hash값 기준으로 size 등 정보 기록\n",
        "\n",
        "\n"
      ],
      "metadata": {
        "id": "r0tudI4Rie9Z"
      },
      "execution_count": null,
      "outputs": []
    },
    {
      "cell_type": "code",
      "source": [
        "df"
      ],
      "metadata": {
        "id": "6KkrsZQjjr4c"
      },
      "execution_count": null,
      "outputs": []
    },
    {
      "cell_type": "markdown",
      "source": [
        "## EntryPoint, ImageBase"
      ],
      "metadata": {
        "id": "Uk4JmiNZj1La"
      }
    },
    {
      "cell_type": "code",
      "source": [
        "# 구조체 정보 확인\n",
        "target_file = colab_path + \"normal/calc.exe\"\n",
        "pe = pefile.PE(target_file)\n",
        "print(hex(pe.OPTIONAL_HEADER.AddressOfEntryPoint))\n",
        "print(hex(pe.OPTIONAL_HEADER.ImageBase))"
      ],
      "metadata": {
        "id": "jxo2O7lVj6N-"
      },
      "execution_count": null,
      "outputs": []
    },
    {
      "cell_type": "markdown",
      "source": [
        "## 섹션 엔트로피 / 사이즈"
      ],
      "metadata": {
        "id": "i-J6tMWKmiY9"
      }
    },
    {
      "cell_type": "code",
      "source": [
        "# 구조체 정보 확인\n",
        "target_file = colab_path + \"normal/calc.exe\"\n",
        "pe = pefile.PE(target_file)\n",
        "for section in pe.sections:\n",
        "    if (section.Name).decode('ascii').rstrip('\\x00') == '.text':\n",
        "        start = section.PointerToRawData\n",
        "        end = section.Misc_VirtualSize\n",
        "    if (section.Name).decode('ascii').rstrip('\\x00') == '.rsrc':\n",
        "        section_size = section.SizeOfRawData\n",
        "pe.close()\n",
        "with open(target_file, 'rb') as f:\n",
        "    f.seek(start)\n",
        "    text_data = f.read(end)\n",
        "text_data"
      ],
      "metadata": {
        "id": "MenQPzmTGiXr"
      },
      "execution_count": null,
      "outputs": []
    },
    {
      "cell_type": "code",
      "source": [
        "# Feature로 등록\n",
        "df['ts_entropy'] = np.NaN\n",
        "df['rs_size'] = np.NaN\n",
        "\n",
        "for dir in os.listdir(colab_path):\n",
        "    file_path = colab_path + dir + '/'\n",
        "    for filename in os.listdir(file_path):\n",
        "        f = open(file_path + filename, 'rb')\n",
        "        data = f.read()\n",
        "        hash = hashlib.sha256(data).hexdigest()\n",
        "        # hash값 기준으로 size 등 정보 기록\n",
        "\n",
        "\n"
      ],
      "metadata": {
        "id": "B2hIF1WFOzOY"
      },
      "execution_count": null,
      "outputs": []
    },
    {
      "cell_type": "code",
      "source": [
        "df"
      ],
      "metadata": {
        "id": "6SVfVJu7S_54"
      },
      "execution_count": null,
      "outputs": []
    },
    {
      "cell_type": "markdown",
      "source": [
        "# Static Info"
      ],
      "metadata": {
        "id": "uhKxmFhdlEvh"
      }
    },
    {
      "cell_type": "markdown",
      "source": [
        "## Yara 기본 동작 원리"
      ],
      "metadata": {
        "id": "x-1TrukEleaN"
      }
    },
    {
      "cell_type": "code",
      "source": [
        "# Text String 기반 탐지\n",
        "rule = yara.compile(source='rule connection_msg {strings: $a = \"connect\" condition: $a}')  #C2통신등에 공격자 콘솔에 표시되는 문자열 탐지\n",
        "matches = rule.match(data='connecting to XXX:')\n",
        "matches"
      ],
      "metadata": {
        "id": "Qz9nL5dt3OIk"
      },
      "execution_count": null,
      "outputs": []
    },
    {
      "cell_type": "code",
      "source": [
        "# 외부 rule import를 통한 탐지\n",
        "rule_file = \"gdrive/My Drive/AI보안 기술개발 인력양성/악성코드/part2/yara_rules/sample.yar\"\n",
        "yara_rule = open(rule_file, 'r').read()\n",
        "rule = yara.compile(source=yara_rule)\n",
        "matches = rule.match(data='connecting to XXX:')  # 메세지 바꿔서 탐지 안되는 것 역시 확인\n",
        "matches"
      ],
      "metadata": {
        "id": "PD_pgoe25RMN"
      },
      "execution_count": null,
      "outputs": []
    },
    {
      "cell_type": "code",
      "source": [
        "# Feature로 등록\n",
        "df['yara_https'] = None\n",
        "#rule = yara.compile(source='rule ip_addr {strings: $a = /(\\d{1,3}\\.){3}\\d{1,3}/ condition: $a}')  #IP address\n",
        "rule = yara.compile(source='rule https {strings: $a = /https:\\S+/ condition: $a}') #https\n",
        "for dir in os.listdir(colab_path):\n",
        "    file_path = colab_path + dir + '/'\n",
        "    for filename in os.listdir(file_path):\n",
        "        f = open(file_path + filename, 'rb')\n",
        "        data = f.read()\n",
        "        hash = hashlib.sha256(data).hexdigest()\n",
        "        # hash값 기준으로 size 등 정보 기록\n",
        "\n",
        "\n"
      ],
      "metadata": {
        "id": "xOnAVrkZPdQ1"
      },
      "execution_count": null,
      "outputs": []
    },
    {
      "cell_type": "code",
      "source": [
        "df"
      ],
      "metadata": {
        "id": "spycmYu4Qs1P"
      },
      "execution_count": null,
      "outputs": []
    },
    {
      "cell_type": "markdown",
      "source": [
        "# Dynamic Info"
      ],
      "metadata": {
        "id": "cDvouROVWfbn"
      }
    },
    {
      "cell_type": "markdown",
      "source": [
        "## VT API 기본 사용법"
      ],
      "metadata": {
        "id": "gBoWtuP4kZp2"
      }
    },
    {
      "cell_type": "code",
      "source": [
        "# Trickbot 샘플로 행위분석 결과 정보 파악\n",
        "apikey = \"\"   # 자신의 API Key\n",
        "hash = \"32c58040d3d6ec5305a1a0ebb48ba05aebe3ac2f905a7f152f32fc9170e16711\" #SHA-256, SHA-1 또는 MD5\n",
        "\n",
        "url = \"https://www.virustotal.com/api/v3/files/\" + hash + \"/behaviours?limit=10\"\n",
        "headers = {\"Accept\": \"application/json\", \"x-apikey\": apikey}\n",
        "\n",
        "response = requests.get(url, headers=headers)"
      ],
      "metadata": {
        "id": "eZj33KbQaQEh"
      },
      "execution_count": null,
      "outputs": []
    },
    {
      "cell_type": "code",
      "source": [
        "vt_json = response.json()\n",
        "vt_json"
      ],
      "metadata": {
        "id": "bp7Vz7F9St3l"
      },
      "execution_count": null,
      "outputs": []
    },
    {
      "cell_type": "code",
      "source": [
        "# json 최상위 구조 파악\n",
        "vt_json.keys()"
      ],
      "metadata": {
        "id": "AtRSj8bcl_SM"
      },
      "execution_count": null,
      "outputs": []
    },
    {
      "cell_type": "code",
      "source": [
        "# 결과를 제공한 sandbox 벤더의 수\n",
        "vt_json['meta']"
      ],
      "metadata": {
        "id": "Ps-JdgZKmCiK"
      },
      "execution_count": null,
      "outputs": []
    },
    {
      "cell_type": "code",
      "source": [
        "# 쿼리 링크\n",
        "vt_json['links']"
      ],
      "metadata": {
        "id": "a_sual_YmR1R"
      },
      "execution_count": null,
      "outputs": []
    },
    {
      "cell_type": "code",
      "source": [
        "# 각 벤더마다 동일한 구조로 결과 제공 (여기서는 0~8까지 인덱스. 총 9개 벤더사 결과이므로)\n",
        "vt_json['data'][0].keys()"
      ],
      "metadata": {
        "id": "CtNdbgVUmckE"
      },
      "execution_count": null,
      "outputs": []
    },
    {
      "cell_type": "code",
      "source": [
        "# sandbox 벤더\n",
        "vt_json['data'][0]['id']"
      ],
      "metadata": {
        "id": "IDW12Se9m3w0"
      },
      "execution_count": null,
      "outputs": []
    },
    {
      "cell_type": "code",
      "source": [
        "# 분석 결과물 구조 파악\n",
        "# 각 벤더마다 제공되는 정보가 모두 다르다. (만약 데이터가 존재한다면 JSON 키값은 동일하다.)\n",
        "print(\"{}의 제공정보: {}\".format(vt_json['data'][0]['id'].split('_')[1], vt_json['data'][0]['attributes'].keys()))\n",
        "print(\"{}의 제공정보: {}\".format(vt_json['data'][1]['id'].split('_')[1], vt_json['data'][1]['attributes'].keys()))"
      ],
      "metadata": {
        "id": "47NGI6fM4ZEd"
      },
      "execution_count": null,
      "outputs": []
    },
    {
      "cell_type": "code",
      "source": [
        "# 그 중 하나의 정보 추출\n",
        "vt_json['data'][0]['attributes']['files_deleted']"
      ],
      "metadata": {
        "id": "IF8JT1vc5knW"
      },
      "execution_count": null,
      "outputs": []
    },
    {
      "cell_type": "markdown",
      "source": [
        "## Dynamic Info - File Activities"
      ],
      "metadata": {
        "id": "NA7_P_Sm5nBI"
      }
    },
    {
      "cell_type": "code",
      "source": [
        "# VT JSON 파일에서 File관련된 Activity만 확인\n",
        "hash = '908b64b1971a979c7e3e8ce4621945cba84854cb98d76367b791a6e22b5f6d53'  # 첫번째 샘플에 대해서\n",
        "load_path = \"gdrive/My Drive/AI보안 기술개발 인력양성/악성코드/part2/vt_json/\" + hash + \".json\"\n",
        "with open(load_path) as f:\n",
        "    vt_json = json.load(f)"
      ],
      "metadata": {
        "id": "dvuhyVES-or1"
      },
      "execution_count": null,
      "outputs": []
    },
    {
      "cell_type": "code",
      "source": [
        "vt_json['meta']['count']"
      ],
      "metadata": {
        "id": "LLGZJokHTa80"
      },
      "execution_count": null,
      "outputs": []
    },
    {
      "cell_type": "code",
      "source": [
        "# files_deleted 의 데이터 파악\n",
        "for vendor_idx in range(vt_json['meta']['count']): #해당 샘플의 경우 vendor 1개\n",
        "    print(\"====={}=====\".format(vt_json['data'][vendor_idx]['id'].split('_')[1]))\n",
        "    if 'attributes' in vt_json['data'][vendor_idx].keys():\n",
        "        for (key, value) in (vt_json['data'][vendor_idx]['attributes'].items()):\n",
        "            if key in ['files_deleted']:\n",
        "                print(key, value)\n"
      ],
      "metadata": {
        "id": "aa8N7zPiLrcF"
      },
      "execution_count": null,
      "outputs": []
    },
    {
      "cell_type": "code",
      "source": [
        "# 삭제된 파일의 카운트 (각 동적분석 벤더 분석 결과의 평균값).\n",
        "df['file_deleted_cnt'] = np.nan\n",
        "\n",
        "for dir in os.listdir(colab_path):\n",
        "    file_path = colab_path + dir + '/'\n",
        "    for filename in os.listdir(file_path):\n",
        "        valid_vendor_cnt = 0\n",
        "        file_deleted_cnt_total = 0\n",
        "\n",
        "        f = open(file_path + filename, 'rb')\n",
        "        data = f.read()\n",
        "        hash = hashlib.sha256(data).hexdigest()\n",
        "        # hash값 기준으로 size 정보 기록\n",
        "\n",
        "        load_path = \"gdrive/My Drive/AI보안 기술개발 인력양성/악성코드/part2/vt_json/\" + hash + \".json\"\n",
        "        with open(load_path) as f:\n",
        "            vt_json = json.load(f)\n",
        "        for vendor_idx in range(vt_json['meta']['count']): #해당 샘플의 경우 vendor 1개\n",
        "            file_deleted_cnt = 0\n"
      ],
      "metadata": {
        "id": "RQ4yzJJS-cIM"
      },
      "execution_count": null,
      "outputs": []
    },
    {
      "cell_type": "code",
      "source": [
        "df"
      ],
      "metadata": {
        "id": "7ZcCrhRATk5p"
      },
      "execution_count": null,
      "outputs": []
    },
    {
      "cell_type": "markdown",
      "source": [
        "## Dynamic Info - Registry / Process Activities (실습)"
      ],
      "metadata": {
        "id": "98UqEiSslVFG"
      }
    },
    {
      "cell_type": "code",
      "source": [],
      "metadata": {
        "id": "-TCC1_KtSOFz"
      },
      "execution_count": null,
      "outputs": []
    },
    {
      "cell_type": "code",
      "source": [],
      "metadata": {
        "id": "KQzWCnsySOyj"
      },
      "execution_count": null,
      "outputs": []
    }
  ]
}